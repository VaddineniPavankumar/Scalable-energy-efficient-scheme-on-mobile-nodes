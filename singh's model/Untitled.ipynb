{
 "cells": [
  {
   "cell_type": "code",
   "execution_count": 1,
   "metadata": {},
   "outputs": [],
   "source": [
    "#we need to connect to a GUI event loop. This tells IPython where (and how) to display plots.\n",
    "%matplotlib inline\n",
    "from matplotlib import pyplot as plt\n",
    "import numpy as np\n",
    "import math"
   ]
  },
  {
   "cell_type": "code",
   "execution_count": 48,
   "metadata": {},
   "outputs": [
    {
     "name": "stdout",
     "output_type": "stream",
     "text": [
      "Enter N( the total number of HN nodes)2000\n",
      "Enter E1(initial energy)0.5\n",
      "Enter alpha2\n",
      "Enter gamma0.4\n",
      "Enter theta0.025\n",
      "2000 0.5 2.0 0.4 0.025\n"
     ]
    }
   ],
   "source": [
    "#given gamma1 and theta\n",
    "#taking inputs\n",
    "N = int(input(\"Enter N( the total number of HN nodes)\"))\n",
    "\n",
    "E1 = float(input(\"Enter E1(initial energy)\"))\n",
    "\n",
    "#taking constants\n",
    "alpha = float(input(\"Enter alpha\"))#singh has taken this as 0.5\n",
    "#beta = input(\"Enter beta\")\n",
    "gamma1 = float(input(\"Enter gamma\"))#intial gamma will be given\n",
    "theta = float(input(\"Enter theta\"))#should validate a equation\n",
    "\n",
    "\n",
    "print(N,E1,alpha,gamma1,theta)\n",
    "#setting parameters are given based 4.2 section setting parameters"
   ]
  },
  {
   "cell_type": "code",
   "execution_count": 49,
   "metadata": {},
   "outputs": [
    {
     "name": "stdout",
     "output_type": "stream",
     "text": [
      "[0.4, 0.35, 0.3, 0.25, 0.2, 0.15]\n"
     ]
    }
   ],
   "source": [
    "#assume i need 6 level heterogenity\n",
    "#so now beta = gamma7\n",
    "#finding gamma values\n",
    "n =5\n",
    "gammavalues = [gamma1]\n",
    "#getting gamma values\n",
    "for i in range(1,n+1):\n",
    "    #gammai = gammai-1 - 2*theta\n",
    "    gammavalues.append(round(gammavalues[i-1] - 2*theta,3))\n",
    "    \n",
    "print(gammavalues)"
   ]
  },
  {
   "cell_type": "code",
   "execution_count": 50,
   "metadata": {},
   "outputs": [
    {
     "name": "stdout",
     "output_type": "stream",
     "text": [
      "[0.4, 0.35, 0.3, 0.25, 0.2]\n"
     ]
    }
   ],
   "source": [
    "#number of nodes in each level\n",
    "beta = gammavalues[len(gammavalues)-1]\n",
    "gammavalues[:] = gammavalues[:len(gammavalues)-1]\n",
    "\n",
    "print(gammavalues)\n",
    "\n",
    "#https://docs.sympy.org/latest/modules/solvers/solvers.html#systems-of-polynomial-equations\n",
    "\n"
   ]
  },
  {
   "cell_type": "code",
   "execution_count": 51,
   "metadata": {},
   "outputs": [
    {
     "name": "stdout",
     "output_type": "stream",
     "text": [
      "(x - 0.4)*((x - 0.35)*((x - 0.3)*((x - 0.25)*(x + 0.8) + 1) + 1) + 1) - 1\n",
      "[0.870518537398139]\n"
     ]
    }
   ],
   "source": [
    "from sympy.solvers import solve\n",
    "from sympy import Symbol\n",
    "beta = Symbol('x',positive=True)\n",
    "\n",
    "f =1\n",
    "for i in range(n-1,-1,-1):\n",
    "    f = f*(beta-gammavalues[i])\n",
    "    f= f+1\n",
    "\n",
    "f = f-2\n",
    "print(f)\n",
    "beta = solve(f, beta)\n",
    "print(beta)\n",
    "\n",
    "\n",
    "# beta1 = Symbol('x',positive=True)\n",
    "# f1 = (1+(beta1-gammavalues[5]))\n",
    "# f1 = ((beta1-gammavalues[4])*f1)+1\n",
    "# f1 = ((beta1-gammavalues[3])*f1)+1\n",
    "# f1 = ((beta1-gammavalues[2])*f1)+1\n",
    "# f1 = ((beta1-gammavalues[1])*f1)+1\n",
    "# f1 = ((beta1-gammavalues[0])*f1)\n",
    "# f1 = f1-1\n",
    "# print(f1)\n",
    "# print(solve(f1, beta1))"
   ]
  },
  {
   "cell_type": "code",
   "execution_count": 52,
   "metadata": {},
   "outputs": [
    {
     "data": {
      "text/plain": [
       "941"
      ]
     },
     "execution_count": 52,
     "metadata": {},
     "output_type": "execute_result"
    }
   ],
   "source": [
    "int(N*(beta[0]-gamma1))\n",
    "# levelnodes = []\n",
    "# for i in range(1,n+1):\n",
    "#     nodes = N\n",
    "#     for j in range(0,i):\n",
    "#         nodes = nodes*(beta-gammavalues[j])\n",
    "#     levelnodes.append(nodes)\n",
    "\n",
    "#     print(levelnodes)"
   ]
  },
  {
   "cell_type": "code",
   "execution_count": null,
   "metadata": {},
   "outputs": [],
   "source": []
  }
 ],
 "metadata": {
  "kernelspec": {
   "display_name": "Python 3",
   "language": "python",
   "name": "python3"
  },
  "language_info": {
   "codemirror_mode": {
    "name": "ipython",
    "version": 3
   },
   "file_extension": ".py",
   "mimetype": "text/x-python",
   "name": "python",
   "nbconvert_exporter": "python",
   "pygments_lexer": "ipython3",
   "version": "3.6.5"
  }
 },
 "nbformat": 4,
 "nbformat_minor": 2
}
