{
 "cells": [
  {
   "cell_type": "code",
   "execution_count": 1,
   "metadata": {},
   "outputs": [],
   "source": [
    "#we need to connect to a GUI event loop. This tells IPython where (and how) to display plots.\n",
    "%matplotlib inline\n",
    "from matplotlib import pyplot as plt\n",
    "import numpy as np\n",
    "import math"
   ]
  },
  {
   "cell_type": "markdown",
   "metadata": {},
   "source": [
    "### Intro(may help me in understanding)\n",
    "SEES introduces a new election heuristic for choosing a set of\n",
    "nodes called ZAG (Zone Aggregation Group) in every zone.\n",
    "The task of ZAG is to collect data from other member nodes,\n",
    "perform the data aggregation and forward to the EH relay\n",
    "nodes. We call this heuristic as MSWE\n",
    "\n",
    "1) MSWE is a general solution that supports up to\n",
    "m different parameters ( p = p1, p2, p3,…, pm ) arranged in m\n",
    "different levels of importance ( g = g1, g2, g3,…, gm ).\n",
    "\n",
    "2) However,\n",
    "it selects ZAG in m consecutive stages (stage-1, stage-2,\n",
    "stage-3, ..., stage-m) based on a set of given weights of importance\n",
    "( w = w1, w2, w3,…, wm ). In each stage, one of the given\n",
    "parameters is taken as the dominant parameter (most important\n",
    "parameter) and is given the highest weight (in a stage-i,\n",
    "the dominant parameter is pi and is given w1 ).\n",
    "\n",
    "3) MSWE runs in\n",
    "two main procedures: (1) electing the ZAG member nodes, and\n",
    "(2) assigning some of ZAG member nodes as zone aggregators\n",
    "( ZAs ) for the current transmission round.\n",
    "\n",
    "SEES provides a general model to generate the set of\n",
    "weights w used in MSWE. The weight wi assigned to the\n",
    "parameter in the importance level gi is given according to\n",
    "the following formula:\n",
    "\n",
    "                            wi = 𝜇 × wi−1, for i = 2, 3,…,m and 0 < 𝜇 ≤ 1\n",
    "\n",
    "                            where w1 + w2 + w3 +...+ wm = 1\n",
    "\n",
    "𝜇 is the weighting factor defined in advance by the\n",
    "administrator based on some considerations (e.g., application\n",
    "nature and election parameters used)."
   ]
  },
  {
   "cell_type": "code",
   "execution_count": 3,
   "metadata": {},
   "outputs": [
    {
     "name": "stdout",
     "output_type": "stream",
     "text": [
      "Enter the 𝜇 value0.5\n",
      "Enter m value3\n",
      "0.5 3\n"
     ]
    }
   ],
   "source": [
    "#from simulation parameters we get 𝜇 value\n",
    "𝜇 = float(input(\"Enter the 𝜇 value\"))\n",
    "m = int(input(\"Enter m value\"))\n",
    "print(𝜇,m)"
   ]
  },
  {
   "cell_type": "markdown",
   "metadata": {},
   "source": [
    "                                        w2 = 𝜇 × w1 = pow(𝜇,1) × w1\n",
    "                                        w3 = 𝜇 × w2 = 𝜇 × 𝜇 × w1 = pow(𝜇,2) × w1\n",
    "                                        w4 = 𝜇 × w3 = 𝜇 × 𝜇 × 𝜇 × w1 = pow(𝜇,3) × w1\n",
    "\n",
    "                                        wi = pow(𝜇,i−1) × w1\n",
    "                                        \n",
    "                                        w1 + w2 + w3 +⋯+ wm = 1\n",
    "                                        \n",
    "                                        w1 + 𝜇 × w1 + pow(𝜇,2) × w1 +⋯+ pow(𝜇,m−1) × w1 = 1\n",
    "                                        \n",
    "                                        w1 =  1/(1+𝜇+pow(𝜇,2)+....+pow(𝜇,m))"
   ]
  },
  {
   "cell_type": "code",
   "execution_count": 8,
   "metadata": {},
   "outputs": [
    {
     "name": "stdout",
     "output_type": "stream",
     "text": [
      "1.75 0.5714285714285714\n",
      "[0.5714285714285714, 0.2857142857142857, 0.14285714285714285]\n",
      "No Error in weights\n"
     ]
    }
   ],
   "source": [
    "#finding initial weight\n",
    "sum = 0\n",
    "for i in range(0,m):\n",
    "    sum =sum + math.pow(𝜇,i)\n",
    "    \n",
    "w1 = 1/sum\n",
    "\n",
    "print(sum,w1)\n",
    "\n",
    "weights = [w1]\n",
    "\n",
    "#for remaining weight\n",
    "\n",
    "for i in range(1,m):\n",
    "    weights.append(𝜇*weights[i-1])\n",
    "    \n",
    "print(weights)#these weigths are used in every stage of ZAG election without any change in their value\n",
    "\n",
    "\n",
    "#testing condition ,mah.fsum is used for computing sum of float values\n",
    "if (math.fsum(weights) == 1):\n",
    "    print(\"No Error in weights\")\n",
    "else:\n",
    "    print(\"Error in weights\")"
   ]
  },
  {
   "cell_type": "markdown",
   "metadata": {},
   "source": [
    "the zone aggregation\n",
    "group ( ZAG ) is selected in m consecutive stages based on\n",
    "the WLC (weighted linear combination) concepts. WLC is a\n",
    "simple weighting-based addition in which the values of several\n",
    "parameters/criteria of an element are, first, standardized/\n",
    "scaled to a common numerical range. Then, added using the\n",
    "weighted average method. The final score ( Scj ) of an element\n",
    "j (a node in our case) is attained by multiplying the standardized\n",
    "value of each parameter/criteria of that element ( P\n",
    "j\n",
    "i ) by\n",
    "the corresponding weight of importance ( wi ) assigned to the\n",
    "parameter; and then adding the product of all these values as\n",
    "follows\n",
    "\n",
    "                pow(Sc,j) = pow(P1,j)*wi + pow(P2,j)*w2 + pow(P3,j)*w3 +......+ pow(Pm,j)*wm\n",
    "\n",
    "Then, the total scores of all\n",
    "the alive HN nodes in the network ( N1\n",
    "st = Nalv ) are calculated\n",
    "using Eq. (18) (the first parameter has the highest weight of\n",
    "importance, and the last one has the least weight). Nodes\n",
    "then are sorted in descending order according to their computed\n",
    "scores. Only the top v%(constant is predefined) nodes are taken as inputs to\n",
    "the second stage. We call these nodes as the robust nodes,\n",
    "\n",
    "In the second stage (stage-2) the new input\n",
    "nodes (total number is N2\n",
    "st ) are scored again and sorted in the\n",
    "same way. But here, the second parameter is considered as\n",
    "the most important (first/dominant parameter) and is given\n",
    "the highest weight ( w1 ).\n",
    "\n",
    "#### To generalize, in stage-i, the pi parameter is taken as the most important parameter and given the highest weight ( w1 ). The parameters above the pi are shifted one step to the lower importance level, whereas those below the pi remain in the same level of their importance. This procedure continues m times.\n",
    "\n",
    "                                            pow(Nst,i+1) = v%* pow(Nst,i)"
   ]
  },
  {
   "cell_type": "markdown",
   "metadata": {},
   "source": [
    "## First we will implement for a single round then we will loop it m number of times"
   ]
  },
  {
   "cell_type": "code",
   "execution_count": null,
   "metadata": {},
   "outputs": [],
   "source": [
    "inputs\n"
   ]
  }
 ],
 "metadata": {
  "kernelspec": {
   "display_name": "Python 3",
   "language": "python",
   "name": "python3"
  },
  "language_info": {
   "codemirror_mode": {
    "name": "ipython",
    "version": 3
   },
   "file_extension": ".py",
   "mimetype": "text/x-python",
   "name": "python",
   "nbconvert_exporter": "python",
   "pygments_lexer": "ipython3",
   "version": "3.6.5"
  }
 },
 "nbformat": 4,
 "nbformat_minor": 2
}
